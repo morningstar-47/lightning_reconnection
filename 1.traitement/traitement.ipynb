{
 "cells": [
  {
   "cell_type": "code",
   "execution_count": 24,
   "id": "44ca630e",
   "metadata": {},
   "outputs": [],
   "source": [
    "import pandas as pd"
   ]
  },
  {
   "cell_type": "code",
   "execution_count": null,
   "id": "b10a3c5c",
   "metadata": {},
   "outputs": [],
   "source": [
    "# 1️ Charger le fichier Excel\n",
    "df = pd.read_excel(\"reseau_en_arbre.xlsx\")"
   ]
  },
  {
   "cell_type": "code",
   "execution_count": 26,
   "id": "ecf04f2a",
   "metadata": {},
   "outputs": [
    {
     "name": "stdout",
     "output_type": "stream",
     "text": [
      "Colonnes : ['id_batiment', 'nb_maisons', 'infra_id', 'infra_type', 'longueur']\n"
     ]
    }
   ],
   "source": [
    "# 2️ Standardiser les noms de colonnes\n",
    "df.columns = df.columns.str.strip().str.lower().str.replace(\" \", \"_\")\n",
    "\n",
    "# Vérif rapide\n",
    "print(\"Colonnes :\", df.columns.tolist())"
   ]
  },
  {
   "cell_type": "code",
   "execution_count": 27,
   "id": "9d9d889a",
   "metadata": {},
   "outputs": [],
   "source": [
    "# 3️ Supprimer les lignes vides ou dupliquées\n",
    "df = df.dropna(subset=['id_batiment', 'infra_id'])\n",
    "df = df.drop_duplicates()"
   ]
  },
  {
   "cell_type": "code",
   "execution_count": 28,
   "id": "33ca7ad1",
   "metadata": {},
   "outputs": [
    {
     "name": "stdout",
     "output_type": "stream",
     "text": [
      " 0 doublon(s) supprimé(s) sur 5586 lignes initiales.\n"
     ]
    }
   ],
   "source": [
    "# 3.1 Supprimer les doublons\n",
    "nb_lignes_avant = len(df)\n",
    "df = df.drop_duplicates()\n",
    "\n",
    "# Compter les lignes après nettoyage\n",
    "nb_lignes_apres = len(df)\n",
    "\n",
    "# Calculer le nombre de doublons supprimés\n",
    "nb_doublons_supprimes = nb_lignes_avant - nb_lignes_apres\n",
    "\n",
    "print(f\" {nb_doublons_supprimes} doublon(s) supprimé(s) sur {nb_lignes_avant} lignes initiales.\")\n"
   ]
  },
  {
   "cell_type": "code",
   "execution_count": 29,
   "id": "a6053b28",
   "metadata": {},
   "outputs": [],
   "source": [
    "# 4️ Corriger les types de données\n",
    "df['nb_maisons'] = pd.to_numeric(df['nb_maisons'], errors='coerce').fillna(0).astype(int)\n",
    "df['longueur'] = pd.to_numeric(df['longueur'], errors='coerce')"
   ]
  },
  {
   "cell_type": "code",
   "execution_count": 30,
   "id": "1b619227",
   "metadata": {},
   "outputs": [],
   "source": [
    "# 5️ Normaliser les valeurs de la colonne `infra_type`\n",
    "# On met tout en minuscule, on supprime les espaces, et on traduit proprement\n",
    "df['infra_type'] = df['infra_type'].str.strip().str.lower()\n",
    "\n",
    "df['infra_type'] = df['infra_type'].replace({\n",
    "    'a_remplacer': 'remplacer',\n",
    "    'infra_intacte': 'Intacte',\n",
    "    'intacte': 'Intacte',\n",
    "    'remplacer': 'remplacer'\n",
    "})"
   ]
  },
  {
   "cell_type": "code",
   "execution_count": 31,
   "id": "e43eea07",
   "metadata": {},
   "outputs": [],
   "source": [
    "# 6️ Optionnel : supprimer les longueurs nulles ou aberrantes\n",
    "df = df[df['longueur'] > 0]"
   ]
  },
  {
   "cell_type": "code",
   "execution_count": 32,
   "id": "563c6a84",
   "metadata": {},
   "outputs": [],
   "source": [
    "# 7️ Trier les données (facultatif, mais propre)\n",
    "df = df.sort_values(by=['id_batiment', 'infra_id']).reset_index(drop=True)"
   ]
  },
  {
   "cell_type": "code",
   "execution_count": 33,
   "id": "87232904",
   "metadata": {},
   "outputs": [
    {
     "name": "stdout",
     "output_type": "stream",
     "text": [
      " Nettoyage terminé ! Fichier sauvegardé sous reseau_en_arbre_clean.csv\n",
      "5586\n"
     ]
    }
   ],
   "source": [
    "# 8️ Sauvegarder le fichier nettoyé\n",
    "df.to_csv(\"reseau_en_arbre_clean.csv\", index=False, encoding='utf-8')\n",
    "\n",
    "print(\" Nettoyage terminé ! Fichier sauvegardé sous reseau_en_arbre_clean.csv\")\n",
    "print (len(df))"
   ]
  }
 ],
 "metadata": {
  "kernelspec": {
   "display_name": "Python 3",
   "language": "python",
   "name": "python3"
  },
  "language_info": {
   "codemirror_mode": {
    "name": "ipython",
    "version": 3
   },
   "file_extension": ".py",
   "mimetype": "text/x-python",
   "name": "python",
   "nbconvert_exporter": "python",
   "pygments_lexer": "ipython3",
   "version": "3.11.5"
  }
 },
 "nbformat": 4,
 "nbformat_minor": 5
}
