{
 "cells": [
  {
   "cell_type": "code",
   "execution_count": 2,
   "id": "954daf55",
   "metadata": {},
   "outputs": [],
   "source": [
    "import pandas as pd "
   ]
  },
  {
   "cell_type": "code",
   "execution_count": 15,
   "id": "74d195fa",
   "metadata": {},
   "outputs": [],
   "source": [
    "df = pd.read_csv(r\"C:\\Users\\djame\\Desktop\\Hetci 25-26\\GEO\\Others\\4.POO\\donnees_infrastructures_complet.csv\")\n"
   ]
  },
  {
   "cell_type": "code",
   "execution_count": 29,
   "id": "117c65fa",
   "metadata": {},
   "outputs": [
    {
     "name": "stdout",
     "output_type": "stream",
     "text": [
      "Couverture: 197/197 = 100.0%\n",
      "Infras manquantes: 0\n"
     ]
    }
   ],
   "source": [
    "import pandas as pd\n",
    "import ast\n",
    "\n",
    "# Charger les deux fichiers\n",
    "df_original = pd.read_csv(r\"C:\\Users\\djame\\Desktop\\Hetci 25-26\\GEO\\Others\\4.POO\\donnees_infrastructures_complet.csv\")\n",
    "df_phases = pd.read_csv(r\"C:\\Users\\djame\\Desktop\\Hetci 25-26\\GEO\\Others\\4.POO\\BOMBOCLAAAT.csv\")\n",
    "\n",
    "# Récupérer les infras à remplacer\n",
    "infra_a_remplacer = set(df_original[df_original[\"infra_type\"] == \"remplacer\"][\"infra_id\"].unique())\n",
    "\n",
    "# Récupérer toutes les infras réparées\n",
    "toutes_infras_reparees = set()\n",
    "for liste_str in df_phases['liste_infras_reparees']:\n",
    "    try:\n",
    "        liste_infras = ast.literal_eval(liste_str)\n",
    "        toutes_infras_reparees.update(liste_infras)\n",
    "    except:\n",
    "        pass\n",
    "\n",
    "# Comparaison rapide\n",
    "couverture = len(infra_a_remplacer.intersection(toutes_infras_reparees))\n",
    "total_a_remplacer = len(infra_a_remplacer)\n",
    "\n",
    "print(f\"Couverture: {couverture}/{total_a_remplacer} = {couverture/total_a_remplacer*100:.1f}%\")\n",
    "print(f\"Infras manquantes: {total_a_remplacer - couverture}\")"
   ]
  }
 ],
 "metadata": {
  "kernelspec": {
   "display_name": "qaqah",
   "language": "python",
   "name": "python3"
  },
  "language_info": {
   "codemirror_mode": {
    "name": "ipython",
    "version": 3
   },
   "file_extension": ".py",
   "mimetype": "text/x-python",
   "name": "python",
   "nbconvert_exporter": "python",
   "pygments_lexer": "ipython3",
   "version": "3.11.9"
  }
 },
 "nbformat": 4,
 "nbformat_minor": 5
}
